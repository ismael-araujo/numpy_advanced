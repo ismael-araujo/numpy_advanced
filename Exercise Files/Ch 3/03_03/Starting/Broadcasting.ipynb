{
 "cells": [
  {
   "cell_type": "markdown",
   "metadata": {},
   "source": [
    "<h1>Broadcasting</h1>"
   ]
  },
  {
   "cell_type": "code",
   "execution_count": 1,
   "metadata": {
    "ExecuteTime": {
     "end_time": "2021-03-06T18:23:51.843219Z",
     "start_time": "2021-03-06T18:23:51.639250Z"
    }
   },
   "outputs": [],
   "source": [
    "import numpy as np"
   ]
  },
  {
   "cell_type": "code",
   "execution_count": 3,
   "metadata": {
    "ExecuteTime": {
     "end_time": "2021-03-06T18:24:24.946860Z",
     "start_time": "2021-03-06T18:24:24.941634Z"
    }
   },
   "outputs": [
    {
     "data": {
      "text/plain": [
       "array([[[ 0,  1,  2,  3,  4],\n",
       "        [ 5,  6,  7,  8,  9],\n",
       "        [10, 11, 12, 13, 14],\n",
       "        [15, 16, 17, 18, 19],\n",
       "        [20, 21, 22, 23, 24],\n",
       "        [25, 26, 27, 28, 29],\n",
       "        [30, 31, 32, 33, 34]],\n",
       "\n",
       "       [[35, 36, 37, 38, 39],\n",
       "        [40, 41, 42, 43, 44],\n",
       "        [45, 46, 47, 48, 49],\n",
       "        [50, 51, 52, 53, 54],\n",
       "        [55, 56, 57, 58, 59],\n",
       "        [60, 61, 62, 63, 64],\n",
       "        [65, 66, 67, 68, 69]]])"
      ]
     },
     "execution_count": 3,
     "metadata": {},
     "output_type": "execute_result"
    }
   ],
   "source": [
    "# Creating elements 0 to 69\n",
    "my_3D_array = np.arange(70)\n",
    "# Changing the shape of the array\n",
    "my_3D_array.shape = (2,7,5)\n",
    "my_3D_array"
   ]
  },
  {
   "cell_type": "code",
   "execution_count": 5,
   "metadata": {
    "ExecuteTime": {
     "end_time": "2021-03-06T18:25:42.831468Z",
     "start_time": "2021-03-06T18:25:42.827145Z"
    }
   },
   "outputs": [
    {
     "data": {
      "text/plain": [
       "(2, 7, 5)"
      ]
     },
     "execution_count": 5,
     "metadata": {},
     "output_type": "execute_result"
    }
   ],
   "source": [
    "# Checking the shape\n",
    "my_3D_array.shape"
   ]
  },
  {
   "cell_type": "code",
   "execution_count": 7,
   "metadata": {
    "ExecuteTime": {
     "end_time": "2021-03-06T18:26:31.690420Z",
     "start_time": "2021-03-06T18:26:31.686227Z"
    }
   },
   "outputs": [
    {
     "data": {
      "text/plain": [
       "3"
      ]
     },
     "execution_count": 7,
     "metadata": {},
     "output_type": "execute_result"
    }
   ],
   "source": [
    "# number of dimensions using .ndim atribute\n",
    "my_3D_array.ndim"
   ]
  },
  {
   "cell_type": "code",
   "execution_count": 8,
   "metadata": {
    "ExecuteTime": {
     "end_time": "2021-03-06T18:26:54.242376Z",
     "start_time": "2021-03-06T18:26:54.238577Z"
    }
   },
   "outputs": [
    {
     "data": {
      "text/plain": [
       "70"
      ]
     },
     "execution_count": 8,
     "metadata": {},
     "output_type": "execute_result"
    }
   ],
   "source": [
    "# size; number of elements\n",
    "my_3D_array.size"
   ]
  },
  {
   "cell_type": "code",
   "execution_count": 9,
   "metadata": {
    "ExecuteTime": {
     "end_time": "2021-03-06T18:27:28.798982Z",
     "start_time": "2021-03-06T18:27:28.794417Z"
    }
   },
   "outputs": [
    {
     "data": {
      "text/plain": [
       "dtype('int64')"
      ]
     },
     "execution_count": 9,
     "metadata": {},
     "output_type": "execute_result"
    }
   ],
   "source": [
    "# data type for each element\n",
    "my_3D_array.dtype"
   ]
  },
  {
   "cell_type": "code",
   "execution_count": 10,
   "metadata": {
    "ExecuteTime": {
     "end_time": "2021-03-06T18:27:58.457870Z",
     "start_time": "2021-03-06T18:27:58.453273Z"
    }
   },
   "outputs": [
    {
     "data": {
      "text/plain": [
       "array([[[ -2,   3,   8,  13,  18],\n",
       "        [ 23,  28,  33,  38,  43],\n",
       "        [ 48,  53,  58,  63,  68],\n",
       "        [ 73,  78,  83,  88,  93],\n",
       "        [ 98, 103, 108, 113, 118],\n",
       "        [123, 128, 133, 138, 143],\n",
       "        [148, 153, 158, 163, 168]],\n",
       "\n",
       "       [[173, 178, 183, 188, 193],\n",
       "        [198, 203, 208, 213, 218],\n",
       "        [223, 228, 233, 238, 243],\n",
       "        [248, 253, 258, 263, 268],\n",
       "        [273, 278, 283, 288, 293],\n",
       "        [298, 303, 308, 313, 318],\n",
       "        [323, 328, 333, 338, 343]]])"
      ]
     },
     "execution_count": 10,
     "metadata": {},
     "output_type": "execute_result"
    }
   ],
   "source": [
    "5 * my_3D_array - 2"
   ]
  },
  {
   "cell_type": "code",
   "execution_count": 13,
   "metadata": {
    "ExecuteTime": {
     "end_time": "2021-03-06T18:30:27.460277Z",
     "start_time": "2021-03-06T18:30:27.457550Z"
    }
   },
   "outputs": [],
   "source": [
    "left_mat = np.arange(6).reshape((2, 3)) # 2 rows and 3 columns\n",
    "right_mat = np.arange(15).reshape((3, 5)) # 3 rows and 5 columns"
   ]
  },
  {
   "cell_type": "code",
   "execution_count": 14,
   "metadata": {
    "ExecuteTime": {
     "end_time": "2021-03-06T18:31:19.917292Z",
     "start_time": "2021-03-06T18:31:19.880126Z"
    }
   },
   "outputs": [
    {
     "ename": "ValueError",
     "evalue": "shapes (2,3) and (5,3) not aligned: 3 (dim 1) != 5 (dim 0)",
     "output_type": "error",
     "traceback": [
      "\u001b[0;31m---------------------------------------------------------------------------\u001b[0m",
      "\u001b[0;31mValueError\u001b[0m                                Traceback (most recent call last)",
      "\u001b[0;32m<ipython-input-14-2fd2ab783eeb>\u001b[0m in \u001b[0;36m<module>\u001b[0;34m()\u001b[0m\n\u001b[0;32m----> 1\u001b[0;31m \u001b[0mnp\u001b[0m\u001b[0;34m.\u001b[0m\u001b[0minner\u001b[0m\u001b[0;34m(\u001b[0m\u001b[0mleft_mat\u001b[0m\u001b[0;34m,\u001b[0m \u001b[0mright_mat\u001b[0m\u001b[0;34m)\u001b[0m\u001b[0;34m\u001b[0m\u001b[0;34m\u001b[0m\u001b[0m\n\u001b[0m",
      "\u001b[0;32m<__array_function__ internals>\u001b[0m in \u001b[0;36minner\u001b[0;34m(*args, **kwargs)\u001b[0m\n",
      "\u001b[0;31mValueError\u001b[0m: shapes (2,3) and (5,3) not aligned: 3 (dim 1) != 5 (dim 0)"
     ]
    }
   ],
   "source": [
    "np.inner(left_mat, right_mat)"
   ]
  },
  {
   "cell_type": "code",
   "execution_count": 16,
   "metadata": {
    "ExecuteTime": {
     "end_time": "2021-03-06T18:32:18.128110Z",
     "start_time": "2021-03-06T18:32:18.123481Z"
    }
   },
   "outputs": [
    {
     "data": {
      "text/plain": [
       "array([[ 25,  28,  31,  34,  37],\n",
       "       [ 70,  82,  94, 106, 118]])"
      ]
     },
     "execution_count": 16,
     "metadata": {},
     "output_type": "execute_result"
    }
   ],
   "source": [
    "np.dot(left_mat, right_mat)"
   ]
  },
  {
   "cell_type": "markdown",
   "metadata": {},
   "source": [
    "## Operations along axes"
   ]
  },
  {
   "cell_type": "code",
   "execution_count": 17,
   "metadata": {
    "ExecuteTime": {
     "end_time": "2021-03-06T18:33:20.165452Z",
     "start_time": "2021-03-06T18:33:20.161379Z"
    }
   },
   "outputs": [
    {
     "data": {
      "text/plain": [
       "array([[[ 0,  1,  2,  3,  4],\n",
       "        [ 5,  6,  7,  8,  9],\n",
       "        [10, 11, 12, 13, 14],\n",
       "        [15, 16, 17, 18, 19],\n",
       "        [20, 21, 22, 23, 24],\n",
       "        [25, 26, 27, 28, 29],\n",
       "        [30, 31, 32, 33, 34]],\n",
       "\n",
       "       [[35, 36, 37, 38, 39],\n",
       "        [40, 41, 42, 43, 44],\n",
       "        [45, 46, 47, 48, 49],\n",
       "        [50, 51, 52, 53, 54],\n",
       "        [55, 56, 57, 58, 59],\n",
       "        [60, 61, 62, 63, 64],\n",
       "        [65, 66, 67, 68, 69]]])"
      ]
     },
     "execution_count": 17,
     "metadata": {},
     "output_type": "execute_result"
    }
   ],
   "source": [
    "my_3D_array"
   ]
  },
  {
   "cell_type": "code",
   "execution_count": 18,
   "metadata": {
    "ExecuteTime": {
     "end_time": "2021-03-06T18:34:05.765686Z",
     "start_time": "2021-03-06T18:34:05.761656Z"
    }
   },
   "outputs": [
    {
     "data": {
      "text/plain": [
       "2415"
      ]
     },
     "execution_count": 18,
     "metadata": {},
     "output_type": "execute_result"
    }
   ],
   "source": [
    "my_3D_array.sum()"
   ]
  },
  {
   "cell_type": "code",
   "execution_count": 19,
   "metadata": {
    "ExecuteTime": {
     "end_time": "2021-03-06T18:35:45.498583Z",
     "start_time": "2021-03-06T18:35:45.494174Z"
    }
   },
   "outputs": [
    {
     "data": {
      "text/plain": [
       "2415.0"
      ]
     },
     "execution_count": 19,
     "metadata": {},
     "output_type": "execute_result"
    }
   ],
   "source": [
    "(69 * 70) / 2"
   ]
  },
  {
   "cell_type": "code",
   "execution_count": 29,
   "metadata": {
    "ExecuteTime": {
     "end_time": "2021-03-06T18:38:09.779685Z",
     "start_time": "2021-03-06T18:38:09.775489Z"
    }
   },
   "outputs": [
    {
     "data": {
      "text/plain": [
       "array([[ 35,  37,  39,  41,  43],\n",
       "       [ 45,  47,  49,  51,  53],\n",
       "       [ 55,  57,  59,  61,  63],\n",
       "       [ 65,  67,  69,  71,  73],\n",
       "       [ 75,  77,  79,  81,  83],\n",
       "       [ 85,  87,  89,  91,  93],\n",
       "       [ 95,  97,  99, 101, 103]])"
      ]
     },
     "execution_count": 29,
     "metadata": {},
     "output_type": "execute_result"
    }
   ],
   "source": [
    "# sum one matrix to the other\n",
    "my_3D_array.sum(axis=0)"
   ]
  },
  {
   "cell_type": "code",
   "execution_count": 30,
   "metadata": {
    "ExecuteTime": {
     "end_time": "2021-03-06T18:38:31.170793Z",
     "start_time": "2021-03-06T18:38:31.166853Z"
    }
   },
   "outputs": [
    {
     "data": {
      "text/plain": [
       "array([[105, 112, 119, 126, 133],\n",
       "       [350, 357, 364, 371, 378]])"
      ]
     },
     "execution_count": 30,
     "metadata": {},
     "output_type": "execute_result"
    }
   ],
   "source": [
    "# sum of the numbers by column\n",
    "my_3D_array.sum(axis=1)"
   ]
  },
  {
   "cell_type": "code",
   "execution_count": 32,
   "metadata": {
    "ExecuteTime": {
     "end_time": "2021-03-06T18:38:56.545823Z",
     "start_time": "2021-03-06T18:38:56.541758Z"
    }
   },
   "outputs": [
    {
     "data": {
      "text/plain": [
       "array([[ 10,  35,  60,  85, 110, 135, 160],\n",
       "       [185, 210, 235, 260, 285, 310, 335]])"
      ]
     },
     "execution_count": 32,
     "metadata": {},
     "output_type": "execute_result"
    }
   ],
   "source": [
    "# sum of the numbers by row\n",
    "my_3D_array.sum(axis=2)"
   ]
  },
  {
   "cell_type": "markdown",
   "metadata": {},
   "source": [
    "## Broadcasting rules"
   ]
  },
  {
   "cell_type": "code",
   "execution_count": 37,
   "metadata": {
    "ExecuteTime": {
     "end_time": "2021-03-06T18:42:37.501765Z",
     "start_time": "2021-03-06T18:42:37.496945Z"
    }
   },
   "outputs": [
    {
     "data": {
      "text/plain": [
       "array([[3, 3, 3, 3, 3],\n",
       "       [3, 3, 3, 3, 3],\n",
       "       [3, 3, 3, 3, 3],\n",
       "       [3, 3, 3, 3, 3],\n",
       "       [3, 3, 3, 3, 3],\n",
       "       [3, 3, 3, 3, 3],\n",
       "       [3, 3, 3, 3, 3]])"
      ]
     },
     "execution_count": 37,
     "metadata": {},
     "output_type": "execute_result"
    }
   ],
   "source": [
    "# Creating an array using ones, adding 35 numbers, setting yp to integer type, \n",
    "# reshaping to 7, 5 and multiplying by 3\n",
    "my_2d_array = np.ones(35, dtype='int_').reshape((7, 5)) * 3\n",
    "my_2d_array"
   ]
  },
  {
   "cell_type": "code",
   "execution_count": 43,
   "metadata": {
    "ExecuteTime": {
     "end_time": "2021-03-06T18:47:41.594130Z",
     "start_time": "2021-03-06T18:47:41.589989Z"
    }
   },
   "outputs": [
    {
     "data": {
      "text/plain": [
       "array([[0.4996, 0.9252, 0.7996, 0.9142, 0.8382],\n",
       "       [0.0858, 0.9103, 0.9317, 0.631 , 0.6282],\n",
       "       [0.3734, 0.8208, 0.8338, 0.6186, 0.0395],\n",
       "       [0.7189, 0.1777, 0.8925, 0.0957, 0.8239],\n",
       "       [0.8093, 0.5871, 0.3872, 0.0451, 0.634 ],\n",
       "       [0.3496, 0.3719, 0.1901, 0.4242, 0.6526],\n",
       "       [0.4424, 0.8737, 0.5201, 0.8167, 0.1534]])"
      ]
     },
     "execution_count": 43,
     "metadata": {},
     "output_type": "execute_result"
    }
   ],
   "source": [
    "# Creating a random matrix\n",
    "my_random_2d_array = np.random.random((7,5))\n",
    "my_random_2d_array"
   ]
  },
  {
   "cell_type": "code",
   "execution_count": 45,
   "metadata": {
    "ExecuteTime": {
     "end_time": "2021-03-06T18:48:19.399754Z",
     "start_time": "2021-03-06T18:48:19.394932Z"
    }
   },
   "outputs": [
    {
     "data": {
      "text/plain": [
       "array([[[ 0.    ,  0.9252,  1.5993,  2.7426,  3.3528],\n",
       "        [ 0.4291,  5.4618,  6.5219,  5.0476,  5.6537],\n",
       "        [ 3.7335,  9.0283, 10.0057,  8.0414,  0.5532],\n",
       "        [10.7828,  2.8425, 15.1725,  1.7229, 15.6532],\n",
       "        [16.1854, 12.3289,  8.5181,  1.0379, 15.2157],\n",
       "        [ 8.741 ,  9.6702,  5.1314, 11.8784, 18.9259],\n",
       "        [13.2718, 27.0832, 16.6424, 26.9495,  5.2146]],\n",
       "\n",
       "       [[17.4849, 33.3089, 29.5864, 34.7395, 32.6894],\n",
       "        [ 3.4329, 37.3223, 39.1314, 27.1309, 27.6404],\n",
       "        [16.8008, 37.7547, 39.189 , 29.6911,  1.9361],\n",
       "        [35.9426,  9.0604, 46.4099,  5.0731, 44.488 ],\n",
       "        [44.5099, 32.8771, 22.0697,  2.6174, 37.4053],\n",
       "        [20.9785, 22.6878, 11.7832, 26.7265, 41.7675],\n",
       "        [28.7556, 57.661 , 34.845 , 55.5322, 10.5826]]])"
      ]
     },
     "execution_count": 45,
     "metadata": {},
     "output_type": "execute_result"
    }
   ],
   "source": [
    "# setting up the array to have only 4 digits after points\n",
    "np.set_printoptions(precision=4)\n",
    "# multiplying the array\n",
    "my_3D_array * my_random_2d_array"
   ]
  }
 ],
 "metadata": {
  "kernelspec": {
   "display_name": "Python 3",
   "language": "python",
   "name": "python3"
  },
  "language_info": {
   "codemirror_mode": {
    "name": "ipython",
    "version": 3
   },
   "file_extension": ".py",
   "mimetype": "text/x-python",
   "name": "python",
   "nbconvert_exporter": "python",
   "pygments_lexer": "ipython3",
   "version": "3.6.9"
  },
  "toc": {
   "base_numbering": 1,
   "nav_menu": {},
   "number_sections": true,
   "sideBar": true,
   "skip_h1_title": false,
   "title_cell": "Table of Contents",
   "title_sidebar": "Contents",
   "toc_cell": false,
   "toc_position": {},
   "toc_section_display": true,
   "toc_window_display": false
  }
 },
 "nbformat": 4,
 "nbformat_minor": 1
}
