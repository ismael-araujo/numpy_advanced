{
 "cells": [
  {
   "cell_type": "markdown",
   "metadata": {},
   "source": [
    "<h1>Creating Structured Arrays</h1>"
   ]
  },
  {
   "cell_type": "code",
   "execution_count": 1,
   "metadata": {
    "ExecuteTime": {
     "end_time": "2021-03-06T18:52:06.772094Z",
     "start_time": "2021-03-06T18:52:06.609027Z"
    }
   },
   "outputs": [],
   "source": [
    "import numpy as np"
   ]
  },
  {
   "cell_type": "code",
   "execution_count": 17,
   "metadata": {
    "ExecuteTime": {
     "end_time": "2021-03-06T18:55:14.373075Z",
     "start_time": "2021-03-06T18:55:14.367697Z"
    }
   },
   "outputs": [
    {
     "data": {
      "text/plain": [
       "[('name', 'S6'), ('height', 'f8'), ('weight', 'f8'), ('age', 'i8')]"
      ]
     },
     "execution_count": 17,
     "metadata": {},
     "output_type": "execute_result"
    }
   ],
   "source": [
    "# creating structure array\n",
    "person_data_def = [('name','S6'),('height','f8'),('weight','f8'), ('age', 'i8')]\n",
    "# S6 = string\n",
    "# f8 = float\n",
    "# i8 = string\n",
    "person_data_def"
   ]
  },
  {
   "cell_type": "code",
   "execution_count": 18,
   "metadata": {
    "ExecuteTime": {
     "end_time": "2021-03-06T18:55:14.902957Z",
     "start_time": "2021-03-06T18:55:14.897502Z"
    }
   },
   "outputs": [
    {
     "data": {
      "text/plain": [
       "array([(b'', 0., 0., 0), (b'', 0., 0., 0), (b'', 0., 0., 0),\n",
       "       (b'', 0., 0., 0)],\n",
       "      dtype=[('name', 'S6'), ('height', '<f8'), ('weight', '<f8'), ('age', '<i8')])"
      ]
     },
     "execution_count": 18,
     "metadata": {},
     "output_type": "execute_result"
    }
   ],
   "source": [
    "people_array = np.zeros((4), dtype=person_data_def)\n",
    "people_array"
   ]
  },
  {
   "cell_type": "code",
   "execution_count": 19,
   "metadata": {
    "ExecuteTime": {
     "end_time": "2021-03-06T18:55:15.145311Z",
     "start_time": "2021-03-06T18:55:15.142455Z"
    }
   },
   "outputs": [],
   "source": [
    "people_array[3] = ('Delta', 73, 205, 34)"
   ]
  },
  {
   "cell_type": "code",
   "execution_count": 20,
   "metadata": {
    "ExecuteTime": {
     "end_time": "2021-03-06T18:55:15.289864Z",
     "start_time": "2021-03-06T18:55:15.287345Z"
    }
   },
   "outputs": [],
   "source": [
    "people_array[0] = ('Alpha', 65, 112, 23)"
   ]
  },
  {
   "cell_type": "code",
   "execution_count": 21,
   "metadata": {
    "ExecuteTime": {
     "end_time": "2021-03-06T18:55:15.722813Z",
     "start_time": "2021-03-06T18:55:15.717800Z"
    }
   },
   "outputs": [
    {
     "data": {
      "text/plain": [
       "array([(b'Alpha', 65., 112., 23), (b'',  0.,   0.,  0),\n",
       "       (b'',  0.,   0.,  0), (b'Delta', 73., 205., 34)],\n",
       "      dtype=[('name', 'S6'), ('height', '<f8'), ('weight', '<f8'), ('age', '<i8')])"
      ]
     },
     "execution_count": 21,
     "metadata": {},
     "output_type": "execute_result"
    }
   ],
   "source": [
    "people_array"
   ]
  },
  {
   "cell_type": "code",
   "execution_count": 22,
   "metadata": {
    "ExecuteTime": {
     "end_time": "2021-03-06T18:55:33.805652Z",
     "start_time": "2021-03-06T18:55:33.800849Z"
    }
   },
   "outputs": [
    {
     "data": {
      "text/plain": [
       "array([(b'Alpha', 65., 112., 23), (b'',  0.,   0.,  0),\n",
       "       (b'',  0.,   0.,  0), (b'Delta', 73., 205., 34)],\n",
       "      dtype=[('name', 'S6'), ('height', '<f8'), ('weight', '<f8'), ('age', '<i8')])"
      ]
     },
     "execution_count": 22,
     "metadata": {},
     "output_type": "execute_result"
    }
   ],
   "source": [
    "people_array[0:]"
   ]
  },
  {
   "cell_type": "code",
   "execution_count": 23,
   "metadata": {
    "ExecuteTime": {
     "end_time": "2021-03-06T18:56:01.100829Z",
     "start_time": "2021-03-06T18:56:01.098105Z"
    }
   },
   "outputs": [],
   "source": [
    "ages = people_array['age']"
   ]
  },
  {
   "cell_type": "code",
   "execution_count": 24,
   "metadata": {
    "ExecuteTime": {
     "end_time": "2021-03-06T18:56:03.848626Z",
     "start_time": "2021-03-06T18:56:03.843515Z"
    }
   },
   "outputs": [
    {
     "data": {
      "text/plain": [
       "array([23,  0,  0, 34])"
      ]
     },
     "execution_count": 24,
     "metadata": {},
     "output_type": "execute_result"
    }
   ],
   "source": [
    "ages"
   ]
  },
  {
   "cell_type": "code",
   "execution_count": 26,
   "metadata": {
    "ExecuteTime": {
     "end_time": "2021-03-06T18:57:15.537492Z",
     "start_time": "2021-03-06T18:57:15.532371Z"
    }
   },
   "outputs": [
    {
     "data": {
      "text/plain": [
       "array([11.5,  0. ,  0. , 17. ])"
      ]
     },
     "execution_count": 26,
     "metadata": {},
     "output_type": "execute_result"
    }
   ],
   "source": [
    "make_youthful = ages / 2\n",
    "make_youthful"
   ]
  },
  {
   "cell_type": "markdown",
   "metadata": {},
   "source": [
    "## Multi-dimensional Structure Array"
   ]
  },
  {
   "cell_type": "code",
   "execution_count": 29,
   "metadata": {
    "ExecuteTime": {
     "end_time": "2021-03-06T18:58:30.274053Z",
     "start_time": "2021-03-06T18:58:30.268687Z"
    }
   },
   "outputs": [
    {
     "data": {
      "text/plain": [
       "array([[[(b'', 0., 0., 0), (b'', 0., 0., 0)],\n",
       "        [(b'', 0., 0., 0), (b'', 0., 0., 0)],\n",
       "        [(b'', 0., 0., 0), (b'', 0., 0., 0)]],\n",
       "\n",
       "       [[(b'', 0., 0., 0), (b'', 0., 0., 0)],\n",
       "        [(b'', 0., 0., 0), (b'', 0., 0., 0)],\n",
       "        [(b'', 0., 0., 0), (b'', 0., 0., 0)]],\n",
       "\n",
       "       [[(b'', 0., 0., 0), (b'', 0., 0., 0)],\n",
       "        [(b'', 0., 0., 0), (b'', 0., 0., 0)],\n",
       "        [(b'', 0., 0., 0), (b'', 0., 0., 0)]],\n",
       "\n",
       "       [[(b'', 0., 0., 0), (b'', 0., 0., 0)],\n",
       "        [(b'', 0., 0., 0), (b'', 0., 0., 0)],\n",
       "        [(b'', 0., 0., 0), (b'', 0., 0., 0)]]],\n",
       "      dtype=[('name', 'S6'), ('height', '<f8'), ('weight', '<f8'), ('age', '<i8')])"
      ]
     },
     "execution_count": 29,
     "metadata": {},
     "output_type": "execute_result"
    }
   ],
   "source": [
    "people_big_array = np.zeros((4, 3, 2), dtype = person_data_def)\n",
    "people_big_array"
   ]
  },
  {
   "cell_type": "code",
   "execution_count": 31,
   "metadata": {
    "ExecuteTime": {
     "end_time": "2021-03-06T18:59:21.021548Z",
     "start_time": "2021-03-06T18:59:21.016161Z"
    }
   },
   "outputs": [],
   "source": [
    "people_big_array[3, 2, 1] = ('Echo', 68, 155, 46)"
   ]
  },
  {
   "cell_type": "markdown",
   "metadata": {},
   "source": [
    "## Creating Record Array"
   ]
  },
  {
   "cell_type": "code",
   "execution_count": null,
   "metadata": {},
   "outputs": [],
   "source": []
  },
  {
   "cell_type": "code",
   "execution_count": null,
   "metadata": {},
   "outputs": [],
   "source": []
  },
  {
   "cell_type": "code",
   "execution_count": null,
   "metadata": {},
   "outputs": [],
   "source": []
  },
  {
   "cell_type": "code",
   "execution_count": null,
   "metadata": {},
   "outputs": [],
   "source": []
  },
  {
   "cell_type": "code",
   "execution_count": null,
   "metadata": {},
   "outputs": [],
   "source": []
  },
  {
   "cell_type": "code",
   "execution_count": null,
   "metadata": {},
   "outputs": [],
   "source": []
  }
 ],
 "metadata": {
  "kernelspec": {
   "display_name": "Python 3",
   "language": "python",
   "name": "python3"
  },
  "language_info": {
   "codemirror_mode": {
    "name": "ipython",
    "version": 3
   },
   "file_extension": ".py",
   "mimetype": "text/x-python",
   "name": "python",
   "nbconvert_exporter": "python",
   "pygments_lexer": "ipython3",
   "version": "3.6.9"
  },
  "toc": {
   "base_numbering": 1,
   "nav_menu": {},
   "number_sections": true,
   "sideBar": true,
   "skip_h1_title": false,
   "title_cell": "Table of Contents",
   "title_sidebar": "Contents",
   "toc_cell": false,
   "toc_position": {},
   "toc_section_display": true,
   "toc_window_display": false
  }
 },
 "nbformat": 4,
 "nbformat_minor": 1
}
